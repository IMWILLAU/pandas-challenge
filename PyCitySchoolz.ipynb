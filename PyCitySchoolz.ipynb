{
 "cells": [
  {
   "cell_type": "code",
   "execution_count": 60,
   "id": "dc83f03a",
   "metadata": {},
   "outputs": [
    {
     "name": "stdout",
     "output_type": "stream",
     "text": [
      "       Student ID     student_name gender  year         school_name  \\\n",
      "0               0     Paul Bradley      M     9   Huang High School   \n",
      "1               1     Victor Smith      M    12   Huang High School   \n",
      "2               2  Kevin Rodriguez      M    12   Huang High School   \n",
      "3               3    Richard Scott      M    12   Huang High School   \n",
      "4               4       Bonnie Ray      F     9   Huang High School   \n",
      "...           ...              ...    ...   ...                 ...   \n",
      "39165       39165     Donna Howard      F    12  Thomas High School   \n",
      "39166       39166        Dawn Bell      F    10  Thomas High School   \n",
      "39167       39167   Rebecca Tanner      F     9  Thomas High School   \n",
      "39168       39168     Desiree Kidd      F    10  Thomas High School   \n",
      "39169       39169  Carolyn Jackson      F    11  Thomas High School   \n",
      "\n",
      "       reading_score  maths_score  School ID         type  size   budget  \n",
      "0                 96           94          0   Government  2917  1910635  \n",
      "1                 90           43          0   Government  2917  1910635  \n",
      "2                 41           76          0   Government  2917  1910635  \n",
      "3                 89           86          0   Government  2917  1910635  \n",
      "4                 87           69          0   Government  2917  1910635  \n",
      "...              ...          ...        ...          ...   ...      ...  \n",
      "39165             51           48         14  Independent  1635  1043130  \n",
      "39166             81           89         14  Independent  1635  1043130  \n",
      "39167             99           99         14  Independent  1635  1043130  \n",
      "39168             72           77         14  Independent  1635  1043130  \n",
      "39169             47           62         14  Independent  1635  1043130  \n",
      "\n",
      "[39170 rows x 11 columns]\n"
     ]
    }
   ],
   "source": [
    "# Dependencies and Setup\n",
    "import pandas as pd\n",
    "from pathlib import Path\n",
    "\n",
    "# File to Load (Remember to Change These)\n",
    "school_data_to_load = Path(\"Resources/schools_complete.csv\")\n",
    "student_data_to_load = Path(\"Resources/students_complete.csv\")\n",
    "\n",
    "# Read School and Student Data File and store into Pandas DataFrames\n",
    "school_data = pd.read_csv(school_data_to_load)\n",
    "student_data = pd.read_csv(student_data_to_load)\n",
    "\n",
    "# Combine the data into a single dataset.  \n",
    "school_data_complete = pd.merge(student_data, school_data, how=\"left\", on=[\"school_name\", \"school_name\"])\n",
    "df = school_data_complete\n",
    "print(school_data_complete)"
   ]
  },
  {
   "cell_type": "code",
   "execution_count": 43,
   "id": "b6047b9f",
   "metadata": {},
   "outputs": [
    {
     "name": "stdout",
     "output_type": "stream",
     "text": [
      "Total number of unique schools: 15\n",
      "Total students: 32655\n",
      "Budget: $82932329558\n",
      "Average Maths Score: 70.33819249425581\n",
      "Average Reading Score: 69.98013786060761\n",
      "% passing maths (the percentage of students who passed maths) 100.0\n"
     ]
    }
   ],
   "source": [
    "#LOCAL GOVERNMENT AREA SUMMARY\n",
    "#  total number of schools\n",
    "sort_school = len(sorted(school_data_complete[\"school_name\"].unique()))\n",
    "print(f'Total number of unique schools: {sort_school}')\n",
    "\n",
    "#Total Number of students\n",
    "sort_students = len(sorted(school_data_complete[\"student_name\"].unique()))\n",
    "print(f'Total students: {sort_students}')\n",
    "\n",
    "#Total Budget\n",
    "sort_budget = sum(sorted(school_data_complete[\"budget\"]))\n",
    "print(f'Budget: ${sort_budget}')\n",
    "\n",
    "#Average maths score\n",
    "sum_avgms = sum(sorted(school_data_complete[\"maths_score\"]))\n",
    "sort_avgms = sum_avgms / len((sorted(school_data_complete[\"maths_score\"])))\n",
    "print(f'Average Maths Score: {sort_avgms}')\n",
    "\n",
    "#Average reading score\n",
    "sum_avgrs = (sum(sorted(school_data_complete[\"reading_score\"])))\n",
    "sort_avgrs = sum_avgrs / len(sorted((school_data_complete[\"reading_score\"])))\n",
    "print(f'Average Reading Score: {sort_avgrs}')\n",
    "\n",
    "#% passing maths (the percentage of students who passed maths)\n",
    "pass_mg = sorted(school_data_complete[\"maths_score\"] > 50)\n",
    "percentage_mg = len(pass_mg) / len((sorted(school_data_complete[\"maths_score\"]))) * 100\n",
    "print(f'% passing maths (the percentage of students who passed maths) {percentage_mg}')\n",
    "\n",
    "#Calculate the percentage of students with a passing reading score\n",
    "\n",
    "\n",
    "\n"
   ]
  },
  {
   "cell_type": "code",
   "execution_count": 44,
   "id": "a538228a",
   "metadata": {},
   "outputs": [
    {
     "data": {
      "text/plain": [
       "['Bailey High School',\n",
       " 'Cabrera High School',\n",
       " 'Figueroa High School',\n",
       " 'Ford High School',\n",
       " 'Griffin High School',\n",
       " 'Hernandez High School',\n",
       " 'Holden High School',\n",
       " 'Huang High School',\n",
       " 'Johnson High School',\n",
       " 'Pena High School',\n",
       " 'Rodriguez High School',\n",
       " 'Shelton High School',\n",
       " 'Thomas High School',\n",
       " 'Wilson High School',\n",
       " 'Wright High School']"
      ]
     },
     "execution_count": 44,
     "metadata": {},
     "output_type": "execute_result"
    }
   ],
   "source": [
    "#School Summary\n",
    "(sorted(school_data_complete[\"school_name\"].unique()))\n"
   ]
  },
  {
   "cell_type": "code",
   "execution_count": 47,
   "id": "fb277138",
   "metadata": {},
   "outputs": [
    {
     "ename": "SyntaxError",
     "evalue": "':' expected after dictionary key (2765371194.py, line 18)",
     "output_type": "error",
     "traceback": [
      "\u001b[1;36m  Cell \u001b[1;32mIn[47], line 18\u001b[1;36m\u001b[0m\n\u001b[1;33m    'School Type:' ['City X', 'City Y', 'City Z'],\u001b[0m\n\u001b[1;37m                                                ^\u001b[0m\n\u001b[1;31mSyntaxError\u001b[0m\u001b[1;31m:\u001b[0m ':' expected after dictionary key\n"
     ]
    }
   ],
   "source": [
    "data = {\n",
    "    'school_name': ['Bailey High School',\n",
    " 'Cabrera High School',\n",
    " 'Figueroa High School',\n",
    " 'Ford High School',\n",
    " 'Griffin High School',\n",
    " 'Hernandez High School',\n",
    " 'Holden High School',\n",
    " 'Huang High School',\n",
    " 'Johnson High School',\n",
    " 'Pena High School',\n",
    " 'Rodriguez High School',\n",
    " 'Shelton High School',\n",
    " 'Thomas High School',\n",
    " 'Wilson High School',\n",
    " 'Wright High School'],\n",
    "    \n",
    "    'School Type:' ['City X', 'City Y', 'City Z'],\n",
    "    'number_of_students': [500, 700, 600],\n",
    "    'average_math_grade': [85, 90, 75]\n",
    "}\n",
    "\n",
    "# Create a DataFrame from the dictionary\n",
    "school_data = pd.DataFrame(data)\n",
    "\n",
    "# Print the DataFrame\n",
    "print(school_data)"
   ]
  },
  {
   "cell_type": "code",
   "execution_count": 70,
   "id": "850cda1d",
   "metadata": {},
   "outputs": [
    {
     "ename": "TypeError",
     "evalue": "list indices must be integers or slices, not str",
     "output_type": "error",
     "traceback": [
      "\u001b[1;31m---------------------------------------------------------------------------\u001b[0m",
      "\u001b[1;31mTypeError\u001b[0m                                 Traceback (most recent call last)",
      "Cell \u001b[1;32mIn[70], line 8\u001b[0m\n\u001b[0;32m      5\u001b[0m df[\u001b[38;5;124m\"\u001b[39m\u001b[38;5;124mschool_name\u001b[39m\u001b[38;5;124m\"\u001b[39m]\u001b[38;5;241m.\u001b[39munique()\n\u001b[0;32m      6\u001b[0m \u001b[38;5;66;03m#df[\"type\"].unique()\u001b[39;00m\n\u001b[1;32m----> 8\u001b[0m school_data[\u001b[38;5;124m\"\u001b[39m\u001b[38;5;124mbudget_per_student\u001b[39m\u001b[38;5;124m\"\u001b[39m] \u001b[38;5;241m=\u001b[39m group_schools[\u001b[38;5;124m'\u001b[39m\u001b[38;5;124mbudget\u001b[39m\u001b[38;5;124m'\u001b[39m] \u001b[38;5;241m/\u001b[39m group_schools[\u001b[38;5;124m'\u001b[39m\u001b[38;5;124msize\u001b[39m\u001b[38;5;124m'\u001b[39m]\n\u001b[0;32m      9\u001b[0m \u001b[38;5;28mprint\u001b[39m(school_data)\n",
      "\u001b[1;31mTypeError\u001b[0m: list indices must be integers or slices, not str"
     ]
    }
   ],
   "source": [
    "group_schools = (sorted(school_data_complete[\"school_name\"].unique()))\n",
    "\n",
    "#(group_schools['type'].first())\n",
    "\n",
    "df[\"school_name\"].unique()\n",
    "#df[\"type\"].unique()\n",
    "\n",
    "school_data[\"budget_per_student\"] = group_schools['budget'] / group_schools['size']\n",
    "print(school_data)"
   ]
  },
  {
   "cell_type": "code",
   "execution_count": null,
   "id": "bd9dc540",
   "metadata": {},
   "outputs": [],
   "source": []
  }
 ],
 "metadata": {
  "kernelspec": {
   "display_name": "Python 3 (ipykernel)",
   "language": "python",
   "name": "python3"
  },
  "language_info": {
   "codemirror_mode": {
    "name": "ipython",
    "version": 3
   },
   "file_extension": ".py",
   "mimetype": "text/x-python",
   "name": "python",
   "nbconvert_exporter": "python",
   "pygments_lexer": "ipython3",
   "version": "3.11.5"
  }
 },
 "nbformat": 4,
 "nbformat_minor": 5
}
